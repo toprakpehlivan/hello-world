{
 "cells": [
  {
   "cell_type": "markdown",
   "id": "434f1bde",
   "metadata": {},
   "source": [
    "# Control Flow"
   ]
  },
  {
   "cell_type": "markdown",
   "id": "7cdd551d",
   "metadata": {},
   "source": [
    "## Conditional Statements"
   ]
  },
  {
   "cell_type": "code",
   "execution_count": 1,
   "id": "9f53ab6a",
   "metadata": {},
   "outputs": [
    {
     "name": "stdout",
     "output_type": "stream",
     "text": [
      "Oh dear, no prize this time.\n"
     ]
    }
   ],
   "source": [
    "#Quiz: Which Prize?\n",
    "points = 134 # Use this input to make your submission\n",
    "\n",
    "if points <= 50:\n",
    "    result = \"Congratulations! You won a wooden rabbit!\"\n",
    "elif points <= 150:\n",
    "    result = \"Oh dear, no prize this time.\"\n",
    "elif points <= 180:\n",
    "    result = \"Congrats! You won a polar bear!\"\n",
    "elif points <= 200:\n",
    "    result = \"Congrats! You won a penguin!\"\n",
    "else:\n",
    "    result = \"You are out of score limits!\"\n",
    "\n",
    "print(result)"
   ]
  },
  {
   "cell_type": "code",
   "execution_count": 3,
   "id": "7bc16ee3",
   "metadata": {},
   "outputs": [
    {
     "name": "stdout",
     "output_type": "stream",
     "text": [
      "Oops!  Your guess was too high.\n"
     ]
    }
   ],
   "source": [
    "#Quiz: Guess My Number\n",
    "# '''\n",
    "# You decide you want to play a game where you are hiding\n",
    "# a number from someone.  Store this number in a variable\n",
    "# called 'answer'.  Another user provides a number called\n",
    "# 'guess'.  By comparing guess to answer, you inform the user\n",
    "# if their guess is too high or too low.\n",
    "\n",
    "# Fill in the conditionals below to inform the user about how\n",
    "# their guess compares to the answer.\n",
    "# '''\n",
    "answer = 10\n",
    "guess = 20\n",
    "\n",
    "if guess < answer:\n",
    "    result = \"Oops!  Your guess was too low.\"\n",
    "elif guess > answer:\n",
    "    result = \"Oops!  Your guess was too high.\"\n",
    "elif answer == guess:\n",
    "    result = \"Nice!  Your guess matched the answer!\"\n",
    "\n",
    "print(result)"
   ]
  },
  {
   "cell_type": "code",
   "execution_count": 4,
   "id": "2a2f1ebb",
   "metadata": {},
   "outputs": [
    {
     "name": "stdout",
     "output_type": "stream",
     "text": [
      "Since you're from CA, your total cost is 5.375.\n"
     ]
    }
   ],
   "source": [
    "# Quiz: Tax Purchase\n",
    "# Depending on where an individual is from we need to tax them\n",
    "# appropriately.  The states of CA, MN, and\n",
    "# NY have taxes of 7.5%, 9.5%, and 8.9% respectively.\n",
    "# Use this information to take the amount of a purchase and\n",
    "# the corresponding state to assure that they are taxed by the right\n",
    "# amount.\n",
    "\n",
    "state = 'CA'\n",
    "purchase_amount = 5\n",
    "\n",
    "if state == 'CA':\n",
    "    tax_amount = .075\n",
    "    total_cost = purchase_amount*(1+tax_amount)\n",
    "    result = \"Since you're from {}, your total cost is {}.\".format(state, total_cost)\n",
    "\n",
    "elif state == 'MN':\n",
    "    tax_amount = .095\n",
    "    total_cost = purchase_amount*(1+tax_amount)\n",
    "    result = \"Since you're from {}, your total cost is {}.\".format(state, total_cost)\n",
    "\n",
    "elif state == 'NY':\n",
    "    tax_amount = .089\n",
    "    total_cost = purchase_amount*(1+tax_amount)\n",
    "    result = \"Since you're from {}, your total cost is {}.\".format(state, total_cost)\n",
    "\n",
    "print(result)"
   ]
  },
  {
   "cell_type": "code",
   "execution_count": 5,
   "id": "b446c9db",
   "metadata": {},
   "outputs": [
    {
     "name": "stdout",
     "output_type": "stream",
     "text": [
      "Congrats! You won a toy truck!\n"
     ]
    }
   ],
   "source": [
    "#Quiz: Which Prize? - Using Truth Values of Objects\n",
    "#1st conditional statement: Update prize variable to the correct prize name based on points.\n",
    "#2nd conditional statement: Set result to the correct phrase based on whether peize is evalutaed as True or False.\n",
    "\n",
    "points = 75 #Use this as input for your submission.\n",
    "\n",
    "prize = None #Set the default prize value to None\n",
    "\n",
    "if points <= 50:\n",
    "    prize = \"wooden rabbit\"\n",
    "\n",
    "elif 51 <= points <= 150:\n",
    "    prize = \"toy truck\"\n",
    "    \n",
    "elif 151 <= points <= 180:\n",
    "    prize = \"penguin\"\n",
    "\n",
    "else:\n",
    "    prize = \"polar bear\"\n",
    "\n",
    "if prize:\n",
    "    result = \"Congrats! You won a {}!\".format(prize)\n",
    "\n",
    "else:\n",
    "    result = \"Oh dear, no prize this time.\"\n",
    "\n",
    "print(result)\n"
   ]
  },
  {
   "cell_type": "markdown",
   "id": "16672ad8",
   "metadata": {},
   "source": [
    "## Loops\n",
    "Python has two kinds of loops - \"for\" loops and \"while\" loops. A \"for\" loop is used to \"iterate\", or do something repeatedly, over an iterable."
   ]
  },
  {
   "cell_type": "markdown",
   "id": "b00901bd",
   "metadata": {},
   "source": [
    "### For Loops\n",
    "\"range()\" is a built-in function used to create an iterable sequence of numbers. \"range(start=0, stop, step=1)\""
   ]
  },
  {
   "cell_type": "code",
   "execution_count": 10,
   "id": "628329df",
   "metadata": {},
   "outputs": [
    {
     "name": "stdout",
     "output_type": "stream",
     "text": [
      "['New York City', 'Montgomery', 'Chicago', 'Springfield']\n"
     ]
    }
   ],
   "source": [
    "### Creating a new list\n",
    "\n",
    "cities = ['new york city', 'montgomery', 'chicago','springfield']\n",
    "\n",
    "for index in range(len(cities)):\n",
    "    cities[index] = cities[index].title()\n",
    "print(cities)    "
   ]
  },
  {
   "cell_type": "code",
   "execution_count": 19,
   "id": "60776006",
   "metadata": {},
   "outputs": [
    {
     "name": "stdout",
     "output_type": "stream",
     "text": [
      "['_j_o_e_y_ _t_r_i_b_b_i_a_n_i_', '_m_o_n_i_c_a_ _g_e_l_l_e_r_', '_c_h_a_n_d_l_e_r_ _b_i_n_g_', '_p_h_o_e_b_e_ _b_u_f_f_a_y_']\n"
     ]
    }
   ],
   "source": [
    "#Quiz: Create Usernames\n",
    "\n",
    "usernames = [\"Joey Tribbiani\", \"Monica Geller\", \"Chandler Bing\", \"Phoebe Buffay\"]\n",
    "\n",
    "for i in range(len(usernames)):\n",
    "    usernames[i] = usernames[i].lower().replace(\"\",\"_\")\n",
    "\n",
    "print(usernames)    "
   ]
  },
  {
   "cell_type": "code",
   "execution_count": 21,
   "id": "ab3f45ce",
   "metadata": {},
   "outputs": [
    {
     "name": "stdout",
     "output_type": "stream",
     "text": [
      "2\n"
     ]
    }
   ],
   "source": [
    "#Quiz: Tag Counter\n",
    "\n",
    "tokens = ['<greeting>','<Hello World!', '</greeting>']\n",
    "count = 0\n",
    "\n",
    "for i in tokens:\n",
    "    if i[0] == '<' and i[-1] == '>':\n",
    "        count +=1\n",
    "print(count)        "
   ]
  },
  {
   "cell_type": "code",
   "execution_count": 7,
   "id": "c38b917c",
   "metadata": {},
   "outputs": [
    {
     "name": "stdout",
     "output_type": "stream",
     "text": [
      "The number of fruits is 23. There are 11 objects that are not fruits.\n"
     ]
    }
   ],
   "source": [
    "#Quiz: Fruit Basket\n",
    "#You would like to count the number of fruits in your basket.\n",
    "#In order to do this, you have the following dictionary and list of fruits.\n",
    "#Use the dictionary and list to count the total number of fruits and not_fruits.\n",
    "\n",
    "fruit_count, not_fruit_count = 0,0\n",
    "basket_items = {\"apples\": 4, \"oranges\": 19, \"kites\": 3, \"sandwiches\": 8}\n",
    "fruits = [\"apples\", \"oranges\", \"pears\", \"grapes\", \"bananas\"]\n",
    "for i,j in basket_items.items():\n",
    "    if i in fruits:\n",
    "        fruit_count += j\n",
    "    else:\n",
    "        not_fruit_count += j\n",
    "#print(fruit_count, not_fruit_count)\n",
    "print((\"The number of fruits is {}. There are {} objects that are not fruits.\").format(fruit_count, not_fruit_count))"
   ]
  },
  {
   "cell_type": "code",
   "execution_count": null,
   "id": "b1f61a2a",
   "metadata": {},
   "outputs": [],
   "source": []
  }
 ],
 "metadata": {
  "kernelspec": {
   "display_name": "Python 3",
   "language": "python",
   "name": "python3"
  },
  "language_info": {
   "codemirror_mode": {
    "name": "ipython",
    "version": 3
   },
   "file_extension": ".py",
   "mimetype": "text/x-python",
   "name": "python",
   "nbconvert_exporter": "python",
   "pygments_lexer": "ipython3",
   "version": "3.8.8"
  }
 },
 "nbformat": 4,
 "nbformat_minor": 5
}
